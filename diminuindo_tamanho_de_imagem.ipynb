{
  "nbformat": 4,
  "nbformat_minor": 0,
  "metadata": {
    "colab": {
      "provenance": [],
      "mount_file_id": "1ZJPi0Z8r_cBNaQSchVFpG1wlXU-DhvBq",
      "authorship_tag": "ABX9TyPArZVrWACtl6YrveTvfEq3",
      "include_colab_link": true
    },
    "kernelspec": {
      "name": "python3",
      "display_name": "Python 3"
    },
    "language_info": {
      "name": "python"
    }
  },
  "cells": [
    {
      "cell_type": "markdown",
      "metadata": {
        "id": "view-in-github",
        "colab_type": "text"
      },
      "source": [
        "<a href=\"https://colab.research.google.com/github/RomuloPrestes/Llrm-Ltda/blob/main/diminuindo_tamanho_de_imagem.ipynb\" target=\"_parent\"><img src=\"https://colab.research.google.com/assets/colab-badge.svg\" alt=\"Open In Colab\"/></a>"
      ]
    },
    {
      "cell_type": "code",
      "execution_count": 1,
      "metadata": {
        "id": "sgqUwzw_Pni1"
      },
      "outputs": [],
      "source": [
        "#importando bliblioteca\n",
        "import os\n",
        "from PIL import Image"
      ]
    },
    {
      "cell_type": "code",
      "source": [
        "#Diretorio da imagem para conversao\n",
        "def eh_imagem(nome_arquivo):\n",
        "  if nome_arquivo.endswith('png') or nome_arquivo.endwith('jpg'):\n",
        "    return true\n",
        "    return false"
      ],
      "metadata": {
        "id": "qvpw6lbAP570"
      },
      "execution_count": 16,
      "outputs": []
    },
    {
      "cell_type": "code",
      "source": [
        "#caminho da imagem para modificar todas as imagens da pasta selecionada\n",
        "def reduzir_tamanho_imagens(input_dir, output_dir, ext='.jpg'):\n",
        "    lista_de_arquivos = [nome for nome in os.listdir(input_dir) if eh_imagem(nome)]\n",
        "    for nome in lista_de_arquivos:\n",
        "        imagem = Image.open(os.path.join(input_dir, nome)).convert('RGB')\n",
        "        redimensionada = imagem.resize((640, 480))\n",
        "        nome_sem_ext = os.path.splitext(nome)[0]\n",
        "        redimensionada.save(os.path.join(output_dir, nome_sem_ext + ext))"
      ],
      "metadata": {
        "id": "kiLF_S1LQRv4"
      },
      "execution_count": 17,
      "outputs": []
    },
    {
      "cell_type": "code",
      "source": [
        "if __name__ == \"__main__\":\n",
        "    diretorio = '/content/drive/MyDrive/Bio System Ltda/Banco de dados'\n"
      ],
      "metadata": {
        "id": "WHFS8rRXRBJQ"
      },
      "execution_count": 23,
      "outputs": []
    },
    {
      "cell_type": "code",
      "source": [
        "reduzir_tamanho_imagens(diretorio, 'output')"
      ],
      "metadata": {
        "id": "R_ynI8TITnhO"
      },
      "execution_count": null,
      "outputs": []
    }
  ]
}