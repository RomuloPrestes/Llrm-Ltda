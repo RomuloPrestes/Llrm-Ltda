{
  "nbformat": 4,
  "nbformat_minor": 0,
  "metadata": {
    "colab": {
      "provenance": [],
      "include_colab_link": true
    },
    "kernelspec": {
      "name": "python3",
      "display_name": "Python 3"
    },
    "language_info": {
      "name": "python"
    }
  },
  "cells": [
    {
      "cell_type": "markdown",
      "metadata": {
        "id": "view-in-github",
        "colab_type": "text"
      },
      "source": [
        "<a href=\"https://colab.research.google.com/github/RomuloPrestes/Llrm-Ltda/blob/main/03_Segmenta%C3%A7%C3%A3o_de_imagens.ipynb\" target=\"_parent\"><img src=\"https://colab.research.google.com/assets/colab-badge.svg\" alt=\"Open In Colab\"/></a>"
      ]
    },
    {
      "cell_type": "markdown",
      "source": [
        "Importação das bibliotecas"
      ],
      "metadata": {
        "id": "NzcU7THTz6ub"
      }
    },
    {
      "cell_type": "code",
      "source": [
        "from google.colab import drive\n",
        "drive.mount('/content/drive')"
      ],
      "metadata": {
        "id": "Wd512D0DxjKK"
      },
      "execution_count": null,
      "outputs": []
    },
    {
      "cell_type": "code",
      "source": [
        "import cv2 #OpenCV\n",
        "import numpy as np\n",
        "from sklearn.cluster import KMeans\n",
        "from matplotlib import pyplot as plt\n",
        "import matplotlib.pyplot as plt"
      ],
      "metadata": {
        "id": "rAeJ74szz-vz"
      },
      "execution_count": null,
      "outputs": []
    },
    {
      "cell_type": "code",
      "source": [
        "#entrada da imagem\n",
        "image = cv2.imread(\"/content/drive/MyDrive/Bio System Ltda/Banco de dados/imagem editada/20221113_170703 sem fundo.png\")"
      ],
      "metadata": {
        "id": "ghQqS59QERE0"
      },
      "execution_count": null,
      "outputs": []
    },
    {
      "cell_type": "code",
      "source": [
        "#convertendo Rgb\n",
        "image = cv2.cvtColor(image, cv2.COLOR_BGR2RGB)"
      ],
      "metadata": {
        "id": "2xuotFkRGdC7",
        "outputId": "fc35a816-631f-4dc6-9ed2-af33ef30093f",
        "colab": {
          "base_uri": "https://localhost:8080/",
          "height": 200
        }
      },
      "execution_count": null,
      "outputs": [
        {
          "output_type": "error",
          "ename": "error",
          "evalue": "ignored",
          "traceback": [
            "\u001b[0;31m---------------------------------------------------------------------------\u001b[0m",
            "\u001b[0;31merror\u001b[0m                                     Traceback (most recent call last)",
            "\u001b[0;32m<ipython-input-4-bce99afabb4c>\u001b[0m in \u001b[0;36m<module>\u001b[0;34m\u001b[0m\n\u001b[1;32m      1\u001b[0m \u001b[0;31m#convertendo Rgb\u001b[0m\u001b[0;34m\u001b[0m\u001b[0;34m\u001b[0m\u001b[0;34m\u001b[0m\u001b[0m\n\u001b[0;32m----> 2\u001b[0;31m \u001b[0mimage\u001b[0m \u001b[0;34m=\u001b[0m \u001b[0mcv2\u001b[0m\u001b[0;34m.\u001b[0m\u001b[0mcvtColor\u001b[0m\u001b[0;34m(\u001b[0m\u001b[0mimage\u001b[0m\u001b[0;34m,\u001b[0m \u001b[0mcv2\u001b[0m\u001b[0;34m.\u001b[0m\u001b[0mCOLOR_BGR2RGB\u001b[0m\u001b[0;34m)\u001b[0m\u001b[0;34m\u001b[0m\u001b[0;34m\u001b[0m\u001b[0m\n\u001b[0m",
            "\u001b[0;31merror\u001b[0m: OpenCV(4.6.0) /io/opencv/modules/imgproc/src/color.cpp:182: error: (-215:Assertion failed) !_src.empty() in function 'cvtColor'\n"
          ]
        }
      ]
    },
    {
      "cell_type": "code",
      "source": [
        "# transformando a image em uma matriz 2d\n",
        "pixel_values = image.reshape((-1, 3))\n",
        "# converção to float\n",
        "pixel_values = np.float32(pixel_values)"
      ],
      "metadata": {
        "id": "TdDbvEFX0i3z"
      },
      "execution_count": null,
      "outputs": []
    },
    {
      "cell_type": "code",
      "source": [
        "print(pixel_values.shape)"
      ],
      "metadata": {
        "colab": {
          "base_uri": "https://localhost:8080/"
        },
        "id": "4B5WNBJs1G43",
        "outputId": "36a59874-3ae2-4a4b-dda5-a0de22ceddee"
      },
      "execution_count": null,
      "outputs": [
        {
          "output_type": "stream",
          "name": "stdout",
          "text": [
            "(7322112, 3)\n"
          ]
        }
      ]
    },
    {
      "cell_type": "code",
      "source": [
        "#definição de criterios de parada\n",
        "criteria = (cv2.TERM_CRITERIA_EPS + cv2.TERM_CRITERIA_MAX_ITER, 100, 0.2)\n"
      ],
      "metadata": {
        "id": "M3ivNs6ELBRw"
      },
      "execution_count": null,
      "outputs": []
    },
    {
      "cell_type": "code",
      "source": [
        "#selecionar o numero de kluster K para o numero de cores da imagem\n",
        "k = 2\n",
        "_, labels, (centers) = cv2.kmeans(pixel_values, k, None, criteria, 10, cv2.KMEANS_RANDOM_CENTERS)"
      ],
      "metadata": {
        "id": "58zkzKpZLhXH"
      },
      "execution_count": null,
      "outputs": []
    },
    {
      "cell_type": "code",
      "source": [
        "#conversão de valores para 8bits\n",
        "centers = np.uint8(centers)\n",
        "#nivelamento da matriz\n",
        "labels = labels.flatten()\n"
      ],
      "metadata": {
        "id": "apQw-SxsMNVa"
      },
      "execution_count": null,
      "outputs": []
    },
    {
      "cell_type": "code",
      "source": [
        "#conversção de cores para a segmentação\n",
        "segmented_image = centers[labels.flatten()]\n"
      ],
      "metadata": {
        "id": "VF9rOINIM9uD"
      },
      "execution_count": null,
      "outputs": []
    },
    {
      "cell_type": "code",
      "source": [
        "#retornar o valor da imagem\n",
        "segmented_image = segmented_image.reshape(image.shape)\n",
        "#printar imagem\n",
        "plt.imshow(segmented_image)\n",
        "plt.show()"
      ],
      "metadata": {
        "colab": {
          "base_uri": "https://localhost:8080/",
          "height": 269
        },
        "id": "aZqkeS0pNJzd",
        "outputId": "0305a4ee-7fa2-4f53-f737-a27e5ccd4686"
      },
      "execution_count": null,
      "outputs": [
        {
          "output_type": "display_data",
          "data": {
            "text/plain": [
              "<Figure size 432x288 with 1 Axes>"
            ],
            "image/png": "[encoded data removed]"
          },
          "metadata": {
            "needs_background": "light"
          }
        }
      ]
    },
    {
      "cell_type": "code",
      "source": [
        "#desabilitar o cluster 2 para a imagem retornar preto\n",
        "masked_image = np.copy(image)\n",
        "#conversão de valores para a coversão em pixel\n",
        "masked_image = masked_image.reshape((-1, 3))\n",
        "#desativar cluster\n",
        "cluster = 2\n",
        "masked_image[labels == cluster] = [0, 0, 0]\n",
        "#converção para a forma original\n",
        "masked_image = masked_image.reshape(image.shape)\n",
        "#mostrar imagem\n",
        "plt.imshow(masked_image)\n",
        "plt.show()"
      ],
      "metadata": {
        "colab": {
          "base_uri": "https://localhost:8080/",
          "height": 269
        },
        "id": "9U-sFpwONrk4",
        "outputId": "fc4d4d8e-7327-4c98-d86e-fc256a772cc1"
      },
      "execution_count": null,
      "outputs": [
        {
          "output_type": "display_data",
          "data": {
            "text/plain": [
              "<Figure size 432x288 with 1 Axes>"
            ],
            "image/png": "[encoded data removed]"
          },
          "metadata": {
            "needs_background": "light"
          }
        }
      ]
    }
  ]
}