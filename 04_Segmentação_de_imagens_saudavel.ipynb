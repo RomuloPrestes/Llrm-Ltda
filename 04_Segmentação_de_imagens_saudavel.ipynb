{
  "nbformat": 4,
  "nbformat_minor": 0,
  "metadata": {
    "colab": {
      "provenance": [],
      "mount_file_id": "1CXfogCXJl4Jprcx6njvIVZsR060CgqW2",
      "authorship_tag": "ABX9TyPDA+HF3eZweYuB/EdtkUHy",
      "include_colab_link": true
    },
    "kernelspec": {
      "name": "python3",
      "display_name": "Python 3"
    },
    "language_info": {
      "name": "python"
    }
  },
  "cells": [
    {
      "cell_type": "markdown",
      "metadata": {
        "id": "view-in-github",
        "colab_type": "text"
      },
      "source": [
        "<a href=\"https://colab.research.google.com/github/RomuloPrestes/Llrm-Ltda/blob/main/04_Segmenta%C3%A7%C3%A3o_de_imagens_saudavel.ipynb\" target=\"_parent\"><img src=\"https://colab.research.google.com/assets/colab-badge.svg\" alt=\"Open In Colab\"/></a>"
      ]
    },
    {
      "cell_type": "markdown",
      "source": [
        "Importação das bibliotecas"
      ],
      "metadata": {
        "id": "NzcU7THTz6ub"
      }
    },
    {
      "cell_type": "code",
      "source": [
        "import cv2 #OpenCV\n",
        "import numpy as np\n",
        "from sklearn.cluster import KMeans\n",
        "from matplotlib import pyplot as plt\n",
        "import matplotlib.pyplot as plt"
      ],
      "metadata": {
        "id": "rAeJ74szz-vz"
      },
      "execution_count": 5,
      "outputs": []
    },
    {
      "cell_type": "code",
      "source": [
        "#entrada da imagem\n",
        "image = cv2.imread(\"/content/drive/MyDrive/Bio System Ltda/Banco de dados/imagem editada/Saudavel 01.png\")"
      ],
      "metadata": {
        "id": "ghQqS59QERE0"
      },
      "execution_count": 6,
      "outputs": []
    },
    {
      "cell_type": "code",
      "source": [
        "#convertendo Rgb\n",
        "image = cv2.cvtColor(image, cv2.COLOR_BGR2RGB)"
      ],
      "metadata": {
        "id": "2xuotFkRGdC7"
      },
      "execution_count": 7,
      "outputs": []
    },
    {
      "cell_type": "code",
      "source": [
        "# transformando a image em uma matriz 2d\n",
        "pixel_values = image.reshape((-1, 3))\n",
        "# converção to float\n",
        "pixel_values = np.float32(pixel_values)"
      ],
      "metadata": {
        "id": "TdDbvEFX0i3z"
      },
      "execution_count": 8,
      "outputs": []
    },
    {
      "cell_type": "code",
      "source": [
        "print(pixel_values.shape)"
      ],
      "metadata": {
        "colab": {
          "base_uri": "https://localhost:8080/"
        },
        "id": "4B5WNBJs1G43",
        "outputId": "805412c1-0ae8-4c90-8408-7501a750fff2"
      },
      "execution_count": 9,
      "outputs": [
        {
          "output_type": "stream",
          "name": "stdout",
          "text": [
            "(184320, 3)\n"
          ]
        }
      ]
    },
    {
      "cell_type": "code",
      "source": [
        "#definição de criterios de parada\n",
        "criteria = (cv2.TERM_CRITERIA_EPS + cv2.TERM_CRITERIA_MAX_ITER, 100, 0.2)\n"
      ],
      "metadata": {
        "id": "M3ivNs6ELBRw"
      },
      "execution_count": 10,
      "outputs": []
    },
    {
      "cell_type": "code",
      "source": [
        "#selecionar o numero de kluster K para o numero de cores da imagem\n",
        "k = 2\n",
        "_, labels, (centers) = cv2.kmeans(pixel_values, k, None, criteria, 10, cv2.KMEANS_RANDOM_CENTERS)"
      ],
      "metadata": {
        "id": "58zkzKpZLhXH"
      },
      "execution_count": 11,
      "outputs": []
    },
    {
      "cell_type": "code",
      "source": [
        "#conversão de valores para 8bits\n",
        "centers = np.uint8(centers)\n",
        "#nivelamento da matriz\n",
        "labels = labels.flatten()\n"
      ],
      "metadata": {
        "id": "apQw-SxsMNVa"
      },
      "execution_count": 12,
      "outputs": []
    },
    {
      "cell_type": "code",
      "source": [
        "#conversção de cores para a segmentação\n",
        "segmented_image = centers[labels.flatten()]\n"
      ],
      "metadata": {
        "id": "VF9rOINIM9uD"
      },
      "execution_count": 13,
      "outputs": []
    },
    {
      "cell_type": "code",
      "source": [
        "#retornar o valor da imagem\n",
        "segmented_image = segmented_image.reshape(image.shape)\n",
        "#printar imagem\n",
        "plt.imshow(segmented_image)\n",
        "plt.show()"
      ],
      "metadata": {
        "colab": {
          "base_uri": "https://localhost:8080/",
          "height": 269
        },
        "id": "aZqkeS0pNJzd",
        "outputId": "4d8d7806-59f6-4d8c-b482-6988dedda167"
      },
      "execution_count": 14,
      "outputs": [
        {
          "output_type": "display_data",
          "data": {
            "text/plain": [
              "<Figure size 432x288 with 1 Axes>"
            ],
            "image/png": "[encoded data removed]"
          },
          "metadata": {
            "needs_background": "light"
          }
        }
      ]
    },
    {
      "cell_type": "code",
      "source": [
        "#desabilitar o cluster 2 para a imagem retornar preto\n",
        "masked_image = np.copy(image)\n",
        "#conversão de valores para a coversão em pixel\n",
        "masked_image = masked_image.reshape((-1, 3))\n",
        "#desativar cluster\n",
        "cluster = 2\n",
        "masked_image[labels == cluster] = [0, 0, 0]\n",
        "#converção para a forma original\n",
        "masked_image = masked_image.reshape(image.shape)\n",
        "#mostrar imagem\n",
        "plt.imshow(masked_image)\n",
        "plt.show()"
      ],
      "metadata": {
        "colab": {
          "base_uri": "https://localhost:8080/",
          "height": 269
        },
        "id": "9U-sFpwONrk4",
        "outputId": "4281b008-cd0d-4d09-eeba-c73c9075c0ff"
      },
      "execution_count": 15,
      "outputs": [
        {
          "output_type": "display_data",
          "data": {
            "text/plain": [
              "<Figure size 432x288 with 1 Axes>"
            ],
            "image/png": "[encoded data removed]"
          },
          "metadata": {
            "needs_background": "light"
          }
        }
      ]
    }
  ]
}